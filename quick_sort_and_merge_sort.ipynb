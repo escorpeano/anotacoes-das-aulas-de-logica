{
 "cells": [
  {
   "cell_type": "markdown",
   "metadata": {},
   "source": [
    "### Conceito de Quick Sort e Merge Sort"
   ]
  },
  {
   "cell_type": "code",
   "execution_count": 1,
   "metadata": {},
   "outputs": [],
   "source": [
    "#Algoritmos de ordenacao\n",
    "    #Quick Sort\n",
    "        #particionamento do muto\n",
    "        #o algoritmo escolhe um numero dentro da lista, e esse numero é chamado de PIVOT\n",
    "        #todos os números <=PIVOT ficam do lado esquerdo\n",
    "        #todos os números >PIVOT ficam do lado direito\n",
    "        #O quicksort funciona localmente e seu tempo de execução não é bom.\n",
    "\n",
    "    #Merge Sort\n",
    "        #algoritmo de divisão e conquista\n",
    "        #durante o processo recebe 3 índices\n",
    "            #left\n",
    "            #middle\n",
    "            #right\n",
    "        #dividi a lista em partes iguais até ficar um elemento por lista"
   ]
  },
  {
   "cell_type": "code",
   "execution_count": 2,
   "metadata": {},
   "outputs": [
    {
     "ename": "SyntaxError",
     "evalue": "invalid syntax (1077479845.py, line 8)",
     "output_type": "error",
     "traceback": [
      "\u001b[1;36m  Input \u001b[1;32mIn [2]\u001b[1;36m\u001b[0m\n\u001b[1;33m    lista2=\u001b[0m\n\u001b[1;37m           ^\u001b[0m\n\u001b[1;31mSyntaxError\u001b[0m\u001b[1;31m:\u001b[0m invalid syntax\n"
     ]
    }
   ],
   "source": [
    "#Quick Sort\n",
    "lista1={8//6/1/4/10/5/9/7/3/2}\n",
    "#o PIVOT dessa lista será o 8\n",
    "\n",
    "#Merge Sort\n",
    "lista2=[7,15,19,21,5,9,11,90]\n",
    "#segue a primeira divisão em partes iguais\n",
    "lista2=\n",
    "[7,15,19,21][5,9,11,90]\n",
    "[7,15][19,21][5,9][11,90]\n",
    "[7][15][19][21][5][9][11][90]\n",
    "#com os valores separados unitariamente, iremos realizar as comparações de um a um, verificando qual o maior\n",
    "    #valor, em seguida iremos juntar esses valores em listas de dois, de forma que o menor valor venha antes do maior.\n",
    "    "
   ]
  },
  {
   "cell_type": "code",
   "execution_count": null,
   "metadata": {},
   "outputs": [],
   "source": [
    "#Código de quick_sort\n",
    "def quickSort(alist):\n",
    "   quickSortHelper(alist,0,len(alist)-1)\n",
    "def quickSortHelper(alist,first,last):\n",
    "   if first<last:\n",
    "   \tsplitpoint = partition(alist,first,last)\n",
    "   \tquickSortHelper(alist,first,splitpoint-1)\n",
    "   \tquickSortHelper(alist,splitpoint+1,last)\n",
    "def partition(alist,first,last):\n",
    "   pivotvalue = alist[first]\n",
    "   leftmark = first+1\n",
    "   rightmark = last\n",
    "   done = False\n",
    "   while not done:\n",
    "   \twhile leftmark <= rightmark and alist[leftmark] <= pivotvalue:\n",
    "       \t\tleftmark = leftmark + 1\n",
    "   \twhile alist[rightmark] >= pivotvalue and rightmark >= leftmark:\n",
    "       \t\trightmark = rightmark -1\n",
    "   \tif rightmark < leftmark:\n",
    "       \t\tdone = True\n",
    "   \telse:\n",
    "       \ttemp = alist[leftmark]\n",
    "       \talist[leftmark] = alist[rightmark]\n",
    "       \talist[rightmark] = temp\n",
    "   temp = alist[first]\n",
    "   alist[first] = alist[rightmark]\n",
    "   alist[rightmark] = temp\n",
    "   return rightmark\n",
    "alist = [54,26,93,17,77,31,44,55,20]\n",
    "quickSort(alist)\n",
    "print(alist)"
   ]
  },
  {
   "cell_type": "code",
   "execution_count": null,
   "metadata": {},
   "outputs": [],
   "source": [
    "#código de merge_sort\n",
    "def mergeSort(alist):\n",
    "\tprint(\"Splitting \",alist)\n",
    "\tif len(alist)>1:\n",
    "    \tmid = len(alist)//2\n",
    "    \tlefthalf = alist[:mid]\n",
    "    \trighthalf = alist[mid:]\n",
    "    \tmergeSort(lefthalf)\n",
    "    \tmergeSort(righthalf)\n",
    "    \ti=0\n",
    "    \tj=0\n",
    "    \tk=0\n",
    "    \twhile i < len(lefthalf) and j < len(righthalf):\n",
    "        \tif lefthalf[i] < righthalf[j]:\n",
    "            \talist[k]=lefthalf[i]\n",
    "            \ti=i+1\n",
    "        \telse:\n",
    "            \talist[k]=righthalf[j]\n",
    "            \tj=j+1\n",
    "        \tk=k+1\n",
    "    \twhile i < len(lefthalf):\n",
    "        \talist[k]=lefthalf[i]\n",
    "        \ti=i+1\n",
    "        \tk=k+1\n",
    "    \twhile j < len(righthalf):\n",
    "        \talist[k]=righthalf[j]\n",
    "        \tj=j+1\n",
    "        \tk=k+1\n",
    "\tprint(\"Merging \",alist)\n",
    "alist = [54,26,93,17,77,31,44,55,20]\n",
    "mergeSort(alist)\n",
    "print(alist)\n"
   ]
  }
 ],
 "metadata": {
  "kernelspec": {
   "display_name": "Python 3.10.5 64-bit",
   "language": "python",
   "name": "python3"
  },
  "language_info": {
   "codemirror_mode": {
    "name": "ipython",
    "version": 3
   },
   "file_extension": ".py",
   "mimetype": "text/x-python",
   "name": "python",
   "nbconvert_exporter": "python",
   "pygments_lexer": "ipython3",
   "version": "3.10.5"
  },
  "orig_nbformat": 4,
  "vscode": {
   "interpreter": {
    "hash": "d9d9202318a1e7cae6cbefb78f472b4aa35414ec67c735a31351dec9fe4eab23"
   }
  }
 },
 "nbformat": 4,
 "nbformat_minor": 2
}
